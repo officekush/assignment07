{
 "cells": [
  {
   "cell_type": "code",
   "execution_count": 1,
   "id": "4b63caf3-c664-47d0-98c3-fffbde3d3d6e",
   "metadata": {},
   "outputs": [
    {
     "name": "stdout",
     "output_type": "stream",
     "text": [
      "Area of the circle: 78.5\n"
     ]
    }
   ],
   "source": [
    "'''Ans1\n",
    "Abstraction is a concept in object-oriented programming that involves hiding the complex implementation details while exposing only the necessary features of an object. \n",
    "It allows the programmer to focus on the essential aspects of an object and ignore the unnecessary details.'''\n",
    "from abc import ABC, abstractmethod\n",
    "\n",
    "# Abstract class with an abstract method\n",
    "class Shape(ABC):\n",
    "    @abstractmethod\n",
    "    def area(self):\n",
    "        pass\n",
    "\n",
    "# Concrete class implementing the abstract class\n",
    "class Circle(Shape):\n",
    "    def __init__(self, radius):\n",
    "        self.radius = radius\n",
    "\n",
    "    def area(self):\n",
    "        return 3.14 * self.radius ** 2\n",
    "\n",
    "# Creating an object of the concrete class\n",
    "circle = Circle(5)\n",
    "print(\"Area of the circle:\", circle.area())\n"
   ]
  },
  {
   "cell_type": "code",
   "execution_count": 2,
   "id": "17bca174-9c07-406e-a6a2-fa59fcbfbc10",
   "metadata": {},
   "outputs": [
    {
     "name": "stdout",
     "output_type": "stream",
     "text": [
      "Toyota Camry\n"
     ]
    }
   ],
   "source": [
    "'''ans2\n",
    "Difference between Abstraction and Encapsulation\n",
    "Abstraction: Abstraction is the process of hiding the complex reality while exposing only the necessary details. It focuses on the \"what\" of an object, i.e.,\n",
    "what a class does without bothering with the details of how it achieves its functionality.\n",
    "\n",
    "Encapsulation: Encapsulation is the bundling of data (attributes) \n",
    "and methods that operate on the data into a single unit, i.e., a class. It involves restricting access to some of the object's components and preventing the accidental modification of data.'''\n",
    "\n",
    "class Car:\n",
    "    def __init__(self, make, model):\n",
    "        self.make = make  # Encapsulation: Attributes are encapsulated within the class\n",
    "        self.model = model\n",
    "\n",
    "    def display_info(self):\n",
    "        print(f\"{self.make} {self.model}\")\n",
    "\n",
    "# Abstraction: Users of the Car class don't need to know how display_info is implemented\n",
    "my_car = Car(\"Toyota\", \"Camry\")\n",
    "my_car.display_info()\n"
   ]
  },
  {
   "cell_type": "code",
   "execution_count": 3,
   "id": "b5e30c86-ed64-4669-a071-6fe0a7bffa44",
   "metadata": {},
   "outputs": [
    {
     "data": {
      "text/plain": [
       "'ans3\\nThe abc module in Python stands for Abstract Base Classes. It provides the infrastructure for defining abstract base classes in Python.\\nAbstract base classes allow you to define a common interface for a set of subclasses.'"
      ]
     },
     "execution_count": 3,
     "metadata": {},
     "output_type": "execute_result"
    }
   ],
   "source": [
    "'''ans3\n",
    "The abc module in Python stands for Abstract Base Classes. It provides the infrastructure for defining abstract base classes in Python.\n",
    "Abstract base classes allow you to define a common interface for a set of subclasses.'''"
   ]
  },
  {
   "cell_type": "code",
   "execution_count": 4,
   "id": "38a5ab63-db54-417e-b30d-b3eaf2cabe56",
   "metadata": {},
   "outputs": [
    {
     "data": {
      "text/plain": [
       "'ans4 \\nData abstraction can be achieved by using abstract classes and abstract methods.\\nAbstract classes cannot be instantiated and are meant to be subclassed.\\nAbstract methods are declared in abstract classes but have no implementation.\\nSubclasses are required to provide concrete implementations for these abstract methods.'"
      ]
     },
     "execution_count": 4,
     "metadata": {},
     "output_type": "execute_result"
    }
   ],
   "source": [
    "'''ans4 \n",
    "Data abstraction can be achieved by using abstract classes and abstract methods.\n",
    "Abstract classes cannot be instantiated and are meant to be subclassed.\n",
    "Abstract methods are declared in abstract classes but have no implementation.\n",
    "Subclasses are required to provide concrete implementations for these abstract methods.'''"
   ]
  },
  {
   "cell_type": "code",
   "execution_count": null,
   "id": "0c67d3e3-ed8d-4fb1-a7ec-827bcebf29ba",
   "metadata": {},
   "outputs": [],
   "source": [
    "ans5"
   ]
  }
 ],
 "metadata": {
  "kernelspec": {
   "display_name": "Python 3 (ipykernel)",
   "language": "python",
   "name": "python3"
  },
  "language_info": {
   "codemirror_mode": {
    "name": "ipython",
    "version": 3
   },
   "file_extension": ".py",
   "mimetype": "text/x-python",
   "name": "python",
   "nbconvert_exporter": "python",
   "pygments_lexer": "ipython3",
   "version": "3.10.8"
  }
 },
 "nbformat": 4,
 "nbformat_minor": 5
}
